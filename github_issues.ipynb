{
 "cells": [
  {
   "cell_type": "code",
   "execution_count": 1,
   "metadata": {},
   "outputs": [],
   "source": [
    "# Code for gathering github repository names\n",
    "# github_repos_names.txt - list of unique repositories obtained from https://huggingface.co/datasets/code_search_net\n",
    "\n",
    "\n",
    "# from datasets import load_dataset\n",
    "# import asyncio\n",
    "# import aiofiles as aiof\n",
    "\n",
    "\n",
    "\n",
    "# async def write_repo_names(filename, chunk):\n",
    "#     async with aiof.open(filename, \"a\") as out:\n",
    "#         await out.write('\\n'.join(chunk))\n",
    "#         await out.flush()\n",
    "    \n",
    "\n",
    "\n",
    "# def generate_chunk(dataset, column, chunk_len=10000):\n",
    "#     chunk = set()\n",
    "#     for i, row in enumerate(dataset, 1):\n",
    "#         if i % chunk_len == 0:\n",
    "#             print(f\"{i} item splitted\")\n",
    "#             yield chunk\n",
    "#             chunk = set()\n",
    "#         chunk.add(row[column])\n",
    "        \n",
    "\n",
    "\n",
    "# async def main(filename, dataset, column):    \n",
    "#     tasks = []\n",
    "\n",
    "#     for chunk in generate_chunk(dataset, column):\n",
    "#         tasks.append(asyncio.create_task(write_repo_names(filename, chunk)))\n",
    "\n",
    "    \n",
    "#     await asyncio.gather(*tasks)\n",
    "\n",
    "\n",
    "\n",
    "# if __name__ == \"__main__\":\n",
    "#     dataset = load_dataset('code_search_net', split='train')\n",
    "#     filename = 'github_repos_names.txt'\n",
    "#     column = 'repository_name'\n",
    "#     asyncio.run(main(filename, dataset, column))"
   ]
  }
 ],
 "metadata": {
  "kernelspec": {
   "display_name": "Python 3",
   "language": "python",
   "name": "python3"
  },
  "language_info": {
   "codemirror_mode": {
    "name": "ipython",
    "version": 3
   },
   "file_extension": ".py",
   "mimetype": "text/x-python",
   "name": "python",
   "nbconvert_exporter": "python",
   "pygments_lexer": "ipython3",
   "version": "3.11.0"
  },
  "orig_nbformat": 4,
  "vscode": {
   "interpreter": {
    "hash": "dd62c96d885bd377c9171caaaf0ec66c6f77d15b7f13b2d7ad592d6ce7b0117c"
   }
  }
 },
 "nbformat": 4,
 "nbformat_minor": 2
}
